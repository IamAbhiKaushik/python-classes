{
  "nbformat": 4,
  "nbformat_minor": 0,
  "metadata": {
    "colab": {
      "name": "stock_market_predictor.ipynb",
      "provenance": [],
      "authorship_tag": "ABX9TyPvGxv3ticgftF/JP9e1om2",
      "include_colab_link": true
    },
    "kernelspec": {
      "name": "python3",
      "display_name": "Python 3"
    }
  },
  "cells": [
    {
      "cell_type": "markdown",
      "metadata": {
        "id": "view-in-github",
        "colab_type": "text"
      },
      "source": [
        "<a href=\"https://colab.research.google.com/github/IamAbhiKaushik/python-classes/blob/master/stock_market_predictor.ipynb\" target=\"_parent\"><img src=\"https://colab.research.google.com/assets/colab-badge.svg\" alt=\"Open In Colab\"/></a>"
      ]
    },
    {
      "cell_type": "code",
      "metadata": {
        "id": "leXl6fgR1nZV"
      },
      "source": [
        "!pip install yfinance\n",
        "!pip install matplotlib\n",
        "!pip install mplfinance"
      ],
      "execution_count": null,
      "outputs": []
    },
    {
      "cell_type": "code",
      "metadata": {
        "id": "NHKUXj881rXf"
      },
      "source": [
        ""
      ],
      "execution_count": null,
      "outputs": []
    },
    {
      "cell_type": "code",
      "metadata": {
        "id": "Icuyz0NX1rbc"
      },
      "source": [
        "import yfinance as yf\n",
        "import matplotlib.ticker as mticker\n",
        "import mplfinance as mpf\n",
        "\n",
        "stock = 'RELIANCE.NS'\n",
        "data = yf.download(stock, start=\"2019-01-01\", end=\"2021-01-01\")\n",
        "# data.head()\n",
        "\n",
        "# mpf.plot(data[0: 28],type='candle',volume=True, figratio=(20,10),figscale=1, style='charles')\n",
        "\n",
        "# print(len(data))\n",
        "opens = data['Open']\n",
        "highs = data['High']\n",
        "lows = data['Low']\n",
        "closes = data['Close']\n",
        "indexes = data.index\n",
        "\n",
        "\n",
        "record = dict()\n",
        "total_profit = 0\n",
        "def buy_sell(index, buy, stop_loss, sell, call):\n",
        "    if call:\n",
        "        # add stock in record dict\n",
        "        record[index] = {'buy': buy, 'sell': sell, 'stop_loss': stop_loss}\n",
        "        return int(opens[index+3])-int(closes[index])\n",
        "        # print(\"buy option called.\")\n",
        "    else:\n",
        "        # remove stock from record dict\n",
        "        if index in record:\n",
        "            NET += (sell-buy)\n",
        "            del record[index]\n",
        "            print(record)\n",
        "def sell_all():\n",
        "  total_profit = 0\n",
        "  for i in range(0, len(data)):\n",
        "    if (opens[i]-lows[i] <= 0.005*lows[i]) and (highs[i]-closes[i] <= 0.005*closes[i]) and (0.01*opens[i] < (closes[i]-opens[i]) <= 0.065*opens[i]):\n",
        "      net_profit = buy_sell(i, highs[i], opens[i], highs[i]+(highs[i]-opens[i]), True)\n",
        "      print(net_profit, total_profit)\n",
        "      total_profit += net_profit\n",
        "  return total_profit\n",
        "\n",
        "a=sell_all()\n",
        "print(\"ALL trades executed.\")\n",
        "print(a)\n",
        "# print(record)"
      ],
      "execution_count": null,
      "outputs": []
    },
    {
      "cell_type": "code",
      "metadata": {
        "id": "URt6L_ze18fA",
        "outputId": "56fb813f-14f6-4356-cd19-8312f08c7ba6",
        "colab": {
          "base_uri": "https://localhost:8080/"
        }
      },
      "source": [
        "import yfinance as yf\n",
        "import matplotlib.ticker as mticker\n",
        "import mplfinance as mpf\n",
        "\n",
        "stock = 'RELIANCE.NS'\n",
        "MARGIN = 10\n",
        "data = yf.download(stock, start=\"2019-01-01\", end=\"2020-11-01\")\n",
        "#data.head()\n",
        "\n",
        "# mpf.plot(data[230:240],type='candle',volume=True, figratio=(20,10),figscale=1, style='charles')\n",
        "\n",
        "# print(len(data))\n",
        "opens = data['Open']\n",
        "highs = data['High']\n",
        "lows = data['Low']\n",
        "closes = data['Close']\n",
        "indexes = data.index\n",
        "\n",
        "\n",
        "record = dict()\n",
        "total_profit = 0\n",
        "def buy_sell(index, buy, stop_loss, sell, call):\n",
        "    if call:\n",
        "        # add stock in record dict\n",
        "        record[index] = {'buy': buy, 'sell': sell, 'stop_loss': stop_loss}\n",
        "        return int(opens[index+3])-int(closes[index])\n",
        "        # print(\"buy option called.\")\n",
        "    else:\n",
        "        # remove stock from record dict\n",
        "        if index in record:\n",
        "            NET += (sell-buy)\n",
        "            del record[index]\n",
        "            print(record)\n",
        "\n",
        "def make_trade(i):\n",
        "  if i >= len(data):\n",
        "    return False, None\n",
        "  stoploss = lows[i] + 1\n",
        "  buy_point = opens[i+1] + 1\n",
        "  sell_point = buy_point + MARGIN\n",
        "  for j in range(i+1, len(data)):\n",
        "    if opens[j] < stoploss:\n",
        "      print(lows[j], highs[j], opens[j], stoploss, sell_point, i, j)\n",
        "      return False, opens[j] - buy_point\n",
        "    if sell_point < opens[j]:\n",
        "      return True, opens[j] - buy_point \n",
        "    if lows[j] <= sell_point <= highs[j]:\n",
        "      return True, MARGIN\n",
        "    if lows[j] <= stoploss:\n",
        "      print(lows[j], highs[j], opens[j], stoploss, sell_point, i, j)\n",
        "      return False, (stoploss - buy_point)\n",
        "  return False, None\n",
        "\n",
        "def sell_all():\n",
        "  total_trade = [0, 0, 0]\n",
        "  total_profit = 0\n",
        "  for i in range(0, len(data)):\n",
        "    if (opens[i]-lows[i] <= 0.005*lows[i]) and (highs[i]-closes[i] <= 0.005*closes[i]) and (0.02*opens[i] < abs(closes[i]-opens[i]) <= 0.09*opens[i]):\n",
        "      status, net_profit = make_trade(i)\n",
        "      if status:\n",
        "        total_trade[0] += 1\n",
        "      else:\n",
        "        if net_profit is None:\n",
        "          total_trade[2] += 1\n",
        "        else:\n",
        "          total_trade[1] += 1\n",
        "\n",
        "      total_profit += net_profit\n",
        "      # net_profit = buy_sell(i, highs[i], opens[i], highs[i]+(highs[i]-opens[i]), True)\n",
        "      print(net_profit, total_profit)\n",
        "      # total_profit += net_profit\n",
        "  return total_profit\n",
        "  \n",
        "\n",
        "a=sell_all()\n",
        "print(\"ALL trades executed.\")\n",
        "print(a)\n",
        "# # print(record)"
      ],
      "execution_count": 36,
      "outputs": [
        {
          "output_type": "stream",
          "text": [
            "\r[*********************100%***********************]  1 of 1 completed\n",
            "10 10\n",
            "10 20\n",
            "10 30\n",
            "10 40\n",
            "10 50\n",
            "10 60\n",
            "10 70\n",
            "10 80\n",
            "10 90\n",
            "10 100\n",
            "1557.800048828125 1577.550048828125 1560.0999755859375 1572.800048828125 1626.0 234 236\n",
            "-55.9000244140625 44.0999755859375\n",
            "10 54.0999755859375\n",
            "10 64.0999755859375\n",
            "10 74.0999755859375\n",
            "10 84.0999755859375\n",
            "10 94.0999755859375\n",
            "ALL trades executed.\n",
            "94.0999755859375\n"
          ],
          "name": "stdout"
        }
      ]
    },
    {
      "cell_type": "code",
      "metadata": {
        "id": "4MZJfUYAYuwK",
        "outputId": "0acb6c2c-70e2-4a1c-e4e2-dc4932ea8463",
        "colab": {
          "base_uri": "https://localhost:8080/",
          "height": 510
        }
      },
      "source": [
        "import yfinance as yf\n",
        "import matplotlib.ticker as mticker\n",
        "import mplfinance as mpf\n",
        "\n",
        "# stock = 'RELIANCE.NS'\n",
        "stock = 'ASIANPAINT.NS'\n",
        "MARGIN = 10\n",
        "data = yf.download(stock, start=\"2019-01-01\", end=\"2020-11-01\")\n",
        "#data.head()\n",
        "\n",
        "mpf.plot(data[230:240],type='candle',volume=True, figratio=(20,10),figscale=1, style='charles')"
      ],
      "execution_count": 48,
      "outputs": [
        {
          "output_type": "stream",
          "text": [
            "\r[*********************100%***********************]  1 of 1 completed\n"
          ],
          "name": "stdout"
        },
        {
          "output_type": "display_data",
          "data": {
            "image/png": "[encoded data removed]",
            "text/plain": [
              "<Figure size 1150x575 with 4 Axes>"
            ]
          },
          "metadata": {
            "tags": []
          }
        }
      ]
    },
    {
      "cell_type": "code",
      "metadata": {
        "id": "u8pT1ommRXg6"
      },
      "source": [
        ""
      ],
      "execution_count": null,
      "outputs": []
    },
    {
      "cell_type": "code",
      "metadata": {
        "id": "hyoRqvWDaGBJ",
        "outputId": "d75dc96c-e2d9-4291-9252-51717fce762e",
        "colab": {
          "base_uri": "https://localhost:8080/"
        }
      },
      "source": [
        "import yfinance as yf\n",
        "import matplotlib.ticker as mticker\n",
        "import mplfinance as mpf\n",
        "\n",
        "# stock = 'ASIANPAINT.NS'\n",
        "# stock = 'TITAN.NS'\n",
        "# stock = 'ULTRACEMCO.NS'\n",
        "stock = 'ADANIPORTS.NS'\n",
        "MARGIN = 10\n",
        "data = yf.download(stock, start=\"2020-01-01\", end=\"2020-10-10\")\n",
        "#data.head()\n",
        "\n",
        "# mpf.plot(data[230:240],type='candle',volume=True, figratio=(20,10),figscale=1, style='charles')\n",
        "\n",
        "# print(len(data))\n",
        "opens = data['Open']\n",
        "highs = data['High']\n",
        "lows = data['Low']\n",
        "closes = data['Close']\n",
        "indexes = data.index\n",
        "\n",
        "\n",
        "record = dict()\n",
        "total_profit = 0\n",
        "def buy_sell(index, buy, stop_loss, sell, call):\n",
        "    if call:\n",
        "        # add stock in record dict\n",
        "        record[index] = {'buy': buy, 'sell': sell, 'stop_loss': stop_loss}\n",
        "        return int(opens[index+3])-int(closes[index])\n",
        "        # print(\"buy option called.\")\n",
        "    else:\n",
        "        # remove stock from record dict\n",
        "        if index in record:\n",
        "            NET += (sell-buy)\n",
        "            del record[index]\n",
        "            print(record)\n",
        "\n",
        "def make_trade(i):\n",
        "  if i > len(data)-2:\n",
        "    return False, None\n",
        "  stoploss = lows[i] + 1\n",
        "  buy_point = opens[i+1] + 1\n",
        "  # sell_point = buy_point + (highs[i]-lows[i])\n",
        "  sell_point = buy_point + MARGIN\n",
        "  for j in range(i+1, len(data)):\n",
        "    if opens[j] < stoploss:\n",
        "      print(lows[j], highs[j], opens[j], stoploss, sell_point, i, j)\n",
        "      return False, opens[j] - buy_point\n",
        "    if sell_point < opens[j]:\n",
        "      return True, opens[j] - buy_point \n",
        "    if lows[j] <= sell_point <= highs[j]:\n",
        "      return True, sell_point - buy_point\n",
        "    if lows[j] <= stoploss:\n",
        "      print(lows[j], highs[j], opens[j], stoploss, sell_point, i, j)\n",
        "      return False, (stoploss - buy_point)\n",
        "  return False, None\n",
        "\n",
        "def sell_all():\n",
        "  total_trade = [0, 0, 0]\n",
        "  total_profit = 0\n",
        "  for i in range(0, len(data)):\n",
        "    if (opens[i]-lows[i] <= 0.01*lows[i]) and (highs[i]-closes[i] <= 0.01*closes[i]) and (0.02*opens[i] < abs(closes[i]-opens[i]) <= 0.09*opens[i]):\n",
        "      status, net_profit = make_trade(i)\n",
        "      if status:\n",
        "        total_trade[0] += 1\n",
        "      else:\n",
        "        if net_profit is None:\n",
        "          total_trade[2] += 1\n",
        "        else:\n",
        "          total_trade[1] += 1\n",
        "      if net_profit is not None:\n",
        "        total_profit = total_profit + net_profit \n",
        "      # net_profit = buy_sell(i, highs[i], opens[i], highs[i]+(highs[i]-opens[i]), True)\n",
        "      print(net_profit, total_profit)\n",
        "      # total_profit += net_profit\n",
        "  print(total_trade)\n",
        "  return total_profit\n",
        "  \n",
        "\n",
        "a=sell_all()\n",
        "print(\"ALL trades executed.\")\n",
        "print(a)\n",
        "# # print(record)"
      ],
      "execution_count": 83,
      "outputs": [
        {
          "output_type": "stream",
          "text": [
            "\r[*********************100%***********************]  1 of 1 completed\n",
            "10.0 10.0\n",
            "10.0 20.0\n",
            "291.3500061035156 307.3500061035156 306.0 302.1000061035156 320.0 89 91\n",
            "-7.899993896484375 12.100006103515625\n",
            "10.5 22.600006103515625\n",
            "10.0 32.600006103515625\n",
            "10.0 42.600006103515625\n",
            "308.6499938964844 319.54998779296875 311.0 309.04998779296875 328.04998779296875 141 145\n",
            "-9.0 33.600006103515625\n",
            "10.0 43.600006103515625\n",
            "343.95001220703125 359.0 358.0 348.1000061035156 369.0 179 180\n",
            "-10.899993896484375 32.70001220703125\n",
            "10.0 42.70001220703125\n",
            "[7, 3, 0]\n",
            "ALL trades executed.\n",
            "42.70001220703125\n"
          ],
          "name": "stdout"
        }
      ]
    },
    {
      "cell_type": "code",
      "metadata": {
        "id": "bHQHMZ31aIqo"
      },
      "source": [
        ""
      ],
      "execution_count": null,
      "outputs": []
    }
  ]
}